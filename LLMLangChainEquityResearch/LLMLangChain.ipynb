{
 "cells": [
  {
   "cell_type": "code",
   "execution_count": 7,
   "id": "736c6134-9603-4c5f-a37c-3a390bb422ee",
   "metadata": {},
   "outputs": [],
   "source": [
    "from langchain.document_loaders import TextLoader"
   ]
  },
  {
   "cell_type": "code",
   "execution_count": null,
   "id": "4525591c",
   "metadata": {},
   "outputs": [],
   "source": [
    "loader = TextLoader(\"D:\\Study\\AILearning\\Instruction.txt\")\n",
    "data = loader.load();\n",
    "print(data)"
   ]
  },
  {
   "cell_type": "code",
   "execution_count": null,
   "id": "63cc7326-4c3a-45eb-af9d-3fe73ee5b4ac",
   "metadata": {},
   "outputs": [],
   "source": [
    "data[0].metadata"
   ]
  },
  {
   "cell_type": "code",
   "execution_count": 12,
   "id": "be30b88b-1eb2-4688-8c53-b4a3d6e80d51",
   "metadata": {},
   "outputs": [],
   "source": [
    "from langchain.document_loaders import UnstructuredURLLoader"
   ]
  },
  {
   "cell_type": "code",
   "execution_count": 13,
   "id": "d8f6b10c-13b1-476e-99ac-25625d9dc2fb",
   "metadata": {},
   "outputs": [],
   "source": [
    "loader = UnstructuredURLLoader(urls = [\"https://python.langchain.com/docs/tutorials/\",\"https://python.langchain.com/docs/how_to/\"])"
   ]
  },
  {
   "cell_type": "code",
   "execution_count": null,
   "id": "d683e1ed-dd81-410e-8839-6dde6f8b7e4f",
   "metadata": {},
   "outputs": [],
   "source": [
    "data = loader.load();\n",
    "print(data[0])\n"
   ]
  },
  {
   "cell_type": "code",
   "execution_count": null,
   "id": "aa38754e-06cf-4925-ab0b-97c48eb41f7c",
   "metadata": {},
   "outputs": [],
   "source": [
    "from langchain.text_splitter import RecursiveCharacterTextSplitter\n",
    "splitter = RecursiveCharacterTextSplitter(separators= [\"\\n\",\"\\n\\n\",\" \"], chunk_size = 200, chunk_overlap = 0)\n",
    "text = str(data[0])\n",
    "chunks = splitter.split_text(text)\n",
    "for chunk in chunks:\n",
    "    print(len(chunk))\n"
   ]
  },
  {
   "cell_type": "code",
   "execution_count": null,
   "id": "e4eefb7b",
   "metadata": {},
   "outputs": [],
   "source": [
    "import pandas as pd\n",
    "pd.set_option('display.max_colwidth', 100)\n",
    "df= pd.read_csv(\"D:\\Study\\AILearning\\LLMLangChainEquityResearch\\Data\\data.csv\")\n",
    "df.shape\n"
   ]
  },
  {
   "cell_type": "code",
   "execution_count": null,
   "id": "fd711c9e",
   "metadata": {},
   "outputs": [],
   "source": [
    "from sentence_transformers import SentenceTransformer\n",
    "encoder = SentenceTransformer('all-mpnet-base-v2')\n",
    "vectors = encoder.encode(df.text)\n",
    "vectors.shape\n"
   ]
  },
  {
   "cell_type": "code",
   "execution_count": null,
   "id": "b8323c93",
   "metadata": {},
   "outputs": [],
   "source": [
    "dim = vectors.shape[1]\n",
    "import faiss\n",
    "index = faiss.IndexFlatL2(dim)\n",
    "index.add(vectors)\n",
    "search_query = \"I want to buy a polo t-shirt\"\n",
    "vec = encoder.encode(search_query)\n",
    "vec "
   ]
  },
  {
   "cell_type": "code",
   "execution_count": null,
   "id": "4edcb55f",
   "metadata": {},
   "outputs": [],
   "source": [
    "import numpy as np\n",
    "svec = np.array([vec]).reshape(1,-1)\n",
    "svec.shape"
   ]
  },
  {
   "cell_type": "code",
   "execution_count": null,
   "id": "e5d78fa4",
   "metadata": {},
   "outputs": [],
   "source": [
    "distance, I = index.search(svec, k = 2)\n",
    "print(I)"
   ]
  },
  {
   "cell_type": "code",
   "execution_count": null,
   "id": "89b6747c",
   "metadata": {},
   "outputs": [],
   "source": []
  }
 ],
 "metadata": {
  "kernelspec": {
   "display_name": "LLMLangChainEquityResearch",
   "language": "python",
   "name": "python3"
  },
  "language_info": {
   "codemirror_mode": {
    "name": "ipython",
    "version": 3
   },
   "file_extension": ".py",
   "mimetype": "text/x-python",
   "name": "python",
   "nbconvert_exporter": "python",
   "pygments_lexer": "ipython3",
   "version": "3.10.11"
  }
 },
 "nbformat": 4,
 "nbformat_minor": 5
}
