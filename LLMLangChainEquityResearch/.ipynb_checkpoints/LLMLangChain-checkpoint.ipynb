{
 "cells": [
  {
   "cell_type": "code",
   "execution_count": 3,
   "id": "736c6134-9603-4c5f-a37c-3a390bb422ee",
   "metadata": {},
   "outputs": [],
   "source": [
    "from langchain.document_loaders import TextLoader"
   ]
  },
  {
   "cell_type": "code",
   "execution_count": 4,
   "id": "4525591c",
   "metadata": {},
   "outputs": [
    {
     "name": "stdout",
     "output_type": "stream",
     "text": [
      "[Document(metadata={'source': 'D:\\\\Study\\\\AILearning\\\\Instruction.txt'}, page_content='Instruction\\n============\\n1.) Create a Virtual Environment\\n\\tpython -m venv <Virtual Directory Nmae>\\n2.) Activate the Environment\\n\\tvenv\\\\Scripts\\\\activate\\n3.) Install Essential AI/ML Libraries\\n\\t#Core Data Libraries\\n\\t\\tpip install numpy pandas matplotlib seaborn\\n\\t#Machine Learning / Deep Learning\\n\\t\\t#scikit-learn (classical ML algorithms)\\n\\t\\t\\tpip install scikit-learn\\n\\t\\t#TensorFlow (deep learning) or PyTorch (alternative deep learning library)\\n\\t\\t\\t# For TensorFlow (CPU version)\\n\\t\\t\\t\\tpip install tensorflow\\n\\t\\t\\t# or for PyTorch (CPU version; check https://pytorch.org/ for exact command)\\n\\t\\t\\t\\tpip install torch torchvision torchaudio\\n\\t#JupyterLab or Jupyter Notebook (if you want a notebook environment):\\n\\t\\tpip install jupyterlab\\n4.) Install VS Code\\n5.) Install Python extension\\n\\tSelect Python Interpreter (Ctrl+Shift+P  Settings > Project > Python Interpreter)\\n6.) Install Jupyter Extension\\t\\n\\n\\nGIT\\n===\\ngit status\\ngit add .\\ngit commit -m \"Initial commit: Added README and setup project\"\\ngit push origin main\\ngit reset --hard')]\n"
     ]
    }
   ],
   "source": [
    "loader = TextLoader(\"D:\\Study\\AILearning\\Instruction.txt\")\n",
    "data = loader.load();\n",
    "print(data)"
   ]
  }
 ],
 "metadata": {
  "kernelspec": {
   "display_name": "LLMLangChainEquityResearch",
   "language": "python",
   "name": "python3"
  },
  "language_info": {
   "codemirror_mode": {
    "name": "ipython",
    "version": 3
   },
   "file_extension": ".py",
   "mimetype": "text/x-python",
   "name": "python",
   "nbconvert_exporter": "python",
   "pygments_lexer": "ipython3",
   "version": "3.10.11"
  }
 },
 "nbformat": 4,
 "nbformat_minor": 5
}
